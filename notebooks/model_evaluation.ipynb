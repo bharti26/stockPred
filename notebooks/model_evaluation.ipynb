{
 "cells": [
  {
   "cell_type": "code",
   "execution_count": null,
   "id": "227b8a7f",
   "metadata": {},
   "outputs": [],
   "source": [
    "import sys\n",
    "import os\n",
    "import pandas as pd\n",
    "import numpy as np\n",
    "import matplotlib.pyplot as plt\n",
    "import seaborn as sns\n",
    "from datetime import datetime, timedelta\n",
    "\n",
    "# Add src to path\n",
    "sys.path.append(os.path.join(os.getcwd(), 'src'))\n",
    "\n",
    "from src.data.stock_data import StockData\n",
    "from src.env.trading_env import StockTradingEnv\n",
    "from src.models.dqn_agent import DQNAgent, DQNAgentConfig\n",
    "from src.utils.visualization import TradingVisualizer"
   ]
  },
  {
   "cell_type": "code",
   "execution_count": null,
   "id": "00b2371b",
   "metadata": {},
   "outputs": [],
   "source": [
    "# Initialize data handler for test period\n",
    "ticker = \"AAPL\"  # Example ticker\n",
    "end_date = datetime.now()\n",
    "start_date = end_date - timedelta(days=365)  # Last year of data\n",
    "\n",
    "data_handler = StockData(ticker, start_date.strftime(\"%Y-%m-%d\"), end_date.strftime(\"%Y-%m-%d\"))\n",
    "data_handler.fetch_data()\n",
    "data_handler.add_technical_indicators()\n",
    "data_handler.preprocess_data()\n",
    "\n",
    "# Display the data\n",
    "data_handler.data.head()"
   ]
  },
  {
   "cell_type": "code",
   "execution_count": null,
   "id": "e26ccc34",
   "metadata": {
    "lines_to_next_cell": 1
   },
   "outputs": [],
   "source": [
    "# Initialize environment\n",
    "env = StockTradingEnv(data_handler.data)\n",
    "\n",
    "# Create agent config\n",
    "config = DQNAgentConfig(\n",
    "    state_size=env.observation_space.shape[0],\n",
    "    action_size=env.action_space.n\n",
    ")\n",
    "\n",
    "# Initialize agent\n",
    "agent = DQNAgent(config)\n",
    "\n",
    "# Load trained weights\n",
    "model_path = \"models/trained_model.pth\"\n",
    "agent.load(model_path)\n",
    "\n",
    "print(f\"Model loaded from {model_path}\")"
   ]
  },
  {
   "cell_type": "code",
   "execution_count": null,
   "id": "fcd79f9f",
   "metadata": {
    "lines_to_next_cell": 1
   },
   "outputs": [],
   "source": [
    "def evaluate_model(env, agent, initial_balance=10000.0):\n",
    "    \"\"\"Evaluate model performance on test data.\"\"\"\n",
    "    state = env.reset()[0]\n",
    "    done = False\n",
    "    \n",
    "    # Track trading history\n",
    "    history = {\n",
    "        'dates': [],\n",
    "        'actions': [],\n",
    "        'prices': [],\n",
    "        'shares': [],\n",
    "        'balance': [],\n",
    "        'portfolio_value': []\n",
    "    }\n",
    "    \n",
    "    while not done:\n",
    "        # Get model's action\n",
    "        action = agent.act(state, training=False)  # Use exploitation only\n",
    "        \n",
    "        # Execute action\n",
    "        next_state, reward, terminated, truncated, _ = env.step(action)\n",
    "        done = terminated or truncated\n",
    "        \n",
    "        # Record trading history\n",
    "        current_date = env.df.index[env.state.current_step]\n",
    "        current_price = env.df.iloc[env.state.current_step][\"Close\"]\n",
    "        \n",
    "        history['dates'].append(current_date)\n",
    "        history['actions'].append(action)\n",
    "        history['prices'].append(current_price)\n",
    "        history['shares'].append(env.state.shares_held)\n",
    "        history['balance'].append(env.state.balance)\n",
    "        history['portfolio_value'].append(env.state.balance + (env.state.shares_held * current_price))\n",
    "        \n",
    "        state = next_state\n",
    "    \n",
    "    return pd.DataFrame(history)"
   ]
  },
  {
   "cell_type": "code",
   "execution_count": null,
   "id": "f2485ca7",
   "metadata": {
    "lines_to_next_cell": 1
   },
   "outputs": [],
   "source": [
    "# Run evaluation\n",
    "trading_history = evaluate_model(env, agent)\n",
    "\n",
    "# Display trading history\n",
    "trading_history.head()"
   ]
  },
  {
   "cell_type": "code",
   "execution_count": null,
   "id": "f8e3f120",
   "metadata": {
    "lines_to_next_cell": 1
   },
   "outputs": [],
   "source": [
    "def analyze_performance(trading_history):\n",
    "    \"\"\"Analyze trading performance and calculate metrics.\"\"\"\n",
    "    # Calculate returns\n",
    "    initial_value = trading_history['portfolio_value'].iloc[0]\n",
    "    final_value = trading_history['portfolio_value'].iloc[-1]\n",
    "    total_return = ((final_value - initial_value) / initial_value) * 100\n",
    "    \n",
    "    # Calculate buy and hold return for comparison\n",
    "    initial_price = trading_history['prices'].iloc[0]\n",
    "    final_price = trading_history['prices'].iloc[-1]\n",
    "    buy_hold_return = ((final_price - initial_price) / initial_price) * 100\n",
    "    \n",
    "    # Count trades\n",
    "    buy_trades = (trading_history['actions'] == 1).sum()\n",
    "    sell_trades = (trading_history['actions'] == 2).sum()\n",
    "    \n",
    "    # Calculate profit/loss per trade\n",
    "    trades = trading_history[trading_history['actions'] != 0]  # Filter out hold actions\n",
    "    trade_returns = []\n",
    "    \n",
    "    for i in range(len(trades) - 1):\n",
    "        if trades['actions'].iloc[i] == 1:  # Buy\n",
    "            buy_price = trades['prices'].iloc[i]\n",
    "            sell_price = trades['prices'].iloc[i + 1]\n",
    "            trade_return = ((sell_price - buy_price) / buy_price) * 100\n",
    "            trade_returns.append(trade_return)\n",
    "    \n",
    "    avg_trade_return = np.mean(trade_returns) if trade_returns else 0\n",
    "    \n",
    "    return {\n",
    "        'total_return': total_return,\n",
    "        'buy_hold_return': buy_hold_return,\n",
    "        'buy_trades': buy_trades,\n",
    "        'sell_trades': sell_trades,\n",
    "        'avg_trade_return': avg_trade_return,\n",
    "        'total_trades': buy_trades + sell_trades\n",
    "    }"
   ]
  },
  {
   "cell_type": "code",
   "execution_count": null,
   "id": "0e0922c7",
   "metadata": {
    "lines_to_next_cell": 1
   },
   "outputs": [],
   "source": [
    "# Analyze performance\n",
    "performance = analyze_performance(trading_history)\n",
    "\n",
    "print(f\"Total Return: {performance['total_return']:.2f}%\")\n",
    "print(f\"Buy & Hold Return: {performance['buy_hold_return']:.2f}%\")\n",
    "print(f\"Number of Buy Trades: {performance['buy_trades']}\")\n",
    "print(f\"Number of Sell Trades: {performance['sell_trades']}\")\n",
    "print(f\"Average Trade Return: {performance['avg_trade_return']:.2f}%\")\n",
    "print(f\"Total Number of Trades: {performance['total_trades']}\")"
   ]
  },
  {
   "cell_type": "code",
   "execution_count": null,
   "id": "b34ddd0e",
   "metadata": {
    "lines_to_next_cell": 1
   },
   "outputs": [],
   "source": [
    "def plot_trading_performance(trading_history):\n",
    "    \"\"\"Plot trading performance metrics.\"\"\"\n",
    "    plt.figure(figsize=(15, 10))\n",
    "    \n",
    "    # Plot portfolio value and stock price\n",
    "    plt.subplot(2, 1, 1)\n",
    "    plt.plot(trading_history['dates'], trading_history['portfolio_value'], label='Portfolio Value')\n",
    "    plt.plot(trading_history['dates'], trading_history['prices'] * 100, label='Stock Price (scaled)')\n",
    "    plt.title('Portfolio Value vs Stock Price')\n",
    "    plt.xlabel('Date')\n",
    "    plt.ylabel('Value ($)')\n",
    "    plt.legend()\n",
    "    \n",
    "    # Plot trading actions\n",
    "    plt.subplot(2, 1, 2)\n",
    "    buy_points = trading_history[trading_history['actions'] == 1]\n",
    "    sell_points = trading_history[trading_history['actions'] == 2]\n",
    "    \n",
    "    plt.plot(trading_history['dates'], trading_history['prices'], label='Stock Price')\n",
    "    plt.scatter(buy_points['dates'], buy_points['prices'], color='green', label='Buy', marker='^')\n",
    "    plt.scatter(sell_points['dates'], sell_points['prices'], color='red', label='Sell', marker='v')\n",
    "    plt.title('Trading Actions')\n",
    "    plt.xlabel('Date')\n",
    "    plt.ylabel('Price ($)')\n",
    "    plt.legend()\n",
    "    \n",
    "    plt.tight_layout()\n",
    "    plt.show()"
   ]
  },
  {
   "cell_type": "code",
   "execution_count": null,
   "id": "ecc06012",
   "metadata": {
    "lines_to_next_cell": 1
   },
   "outputs": [],
   "source": [
    "# Plot trading performance\n",
    "plot_trading_performance(trading_history)"
   ]
  },
  {
   "cell_type": "code",
   "execution_count": null,
   "id": "cf6f3279",
   "metadata": {
    "lines_to_next_cell": 1
   },
   "outputs": [],
   "source": [
    "def calculate_dollar_returns(trading_history):\n",
    "    \"\"\"Calculate dollar profits and losses.\"\"\"\n",
    "    initial_balance = trading_history['portfolio_value'].iloc[0]\n",
    "    final_balance = trading_history['portfolio_value'].iloc[-1]\n",
    "    \n",
    "    # Calculate total profit/loss\n",
    "    total_profit_loss = final_balance - initial_balance\n",
    "    \n",
    "    # Calculate profit/loss per trade\n",
    "    trades = trading_history[trading_history['actions'] != 0]\n",
    "    trade_profits = []\n",
    "    \n",
    "    for i in range(len(trades) - 1):\n",
    "        if trades['actions'].iloc[i] == 1:  # Buy\n",
    "            shares = trades['shares'].iloc[i]\n",
    "            buy_price = trades['prices'].iloc[i]\n",
    "            sell_price = trades['prices'].iloc[i + 1]\n",
    "            trade_profit = shares * (sell_price - buy_price)\n",
    "            trade_profits.append(trade_profit)\n",
    "    \n",
    "    avg_trade_profit = np.mean(trade_profits) if trade_profits else 0\n",
    "    \n",
    "    return {\n",
    "        'total_profit_loss': total_profit_loss,\n",
    "        'avg_trade_profit': avg_trade_profit,\n",
    "        'winning_trades': len([p for p in trade_profits if p > 0]),\n",
    "        'losing_trades': len([p for p in trade_profits if p < 0])\n",
    "    }"
   ]
  },
  {
   "cell_type": "code",
   "execution_count": null,
   "id": "0dc09652",
   "metadata": {},
   "outputs": [],
   "source": [
    "# Calculate dollar returns\n",
    "dollar_returns = calculate_dollar_returns(trading_history)\n",
    "\n",
    "print(f\"Total Profit/Loss: ${dollar_returns['total_profit_loss']:.2f}\")\n",
    "print(f\"Average Profit per Trade: ${dollar_returns['avg_trade_profit']:.2f}\")\n",
    "print(f\"Number of Winning Trades: {dollar_returns['winning_trades']}\")\n",
    "print(f\"Number of Losing Trades: {dollar_returns['losing_trades']}\") "
   ]
  }
 ],
 "metadata": {
  "jupytext": {
   "cell_metadata_filter": "-all",
   "main_language": "python",
   "notebook_metadata_filter": "-all"
  }
 },
 "nbformat": 4,
 "nbformat_minor": 5
}
